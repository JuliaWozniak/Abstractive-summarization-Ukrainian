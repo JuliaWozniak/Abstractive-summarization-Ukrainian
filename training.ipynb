{
 "cells": [
  {
   "cell_type": "code",
   "execution_count": null,
   "id": "8e4023bd",
   "metadata": {},
   "outputs": [],
   "source": [
    "import os\n",
    "import time\n",
    "import pandas as pd\n",
    "\n",
    "import bitsandbytes as bnb\n",
    "import torch\n",
    "import torch.nn as nn\n",
    "\n",
    "from transformers import (\n",
    "    AutoConfig,\n",
    "    BitsAndBytesConfig,\n",
    "    AutoModelForCausalLM,\n",
    "    AutoTokenizer,\n",
    ")\n",
    "from transformers import (\n",
    "    pipeline, \n",
    "    TrainingArguments, \n",
    "    Trainer\n",
    ")\n",
    "from peft import ( \n",
    "\t\tLoraConfig, \n",
    "\t\tPeftConfig, \n",
    "\t\tPeftModel, \n",
    "\t\tget_peft_model, \n",
    "\t\tprepare_model_for_kbit_training\n",
    ")\n",
    "\n",
    "import transformers\n",
    "from datasets import Dataset"
   ]
  },
  {
   "cell_type": "code",
   "execution_count": null,
   "id": "01a1c102",
   "metadata": {},
   "outputs": [],
   "source": [
    "MODEL_NAME = \"/kaggle/input/llama-3/transformers/8b-hf/1\"\n",
    "\n",
    "bnb_config = BitsAndBytesConfig(\n",
    "    load_in_4bit=True,\n",
    "    bnb_4bit_use_double_quant=True,\n",
    "    bnb_4bit_quant_type=\"nf4\",\n",
    "    bnb_4bit_compute_dtype=torch.bfloat16\n",
    ")"
   ]
  },
  {
   "cell_type": "code",
   "execution_count": null,
   "id": "e346280b",
   "metadata": {},
   "outputs": [],
   "source": [
    "model1 = AutoModelForCausalLM.from_pretrained(\n",
    "    MODEL_NAME,\n",
    "    device_map=\"auto\",\n",
    "    trust_remote_code=True,\n",
    "    quantization_config=bnb_config\n",
    ")\n",
    "\n",
    "tokenizer1 = AutoTokenizer.from_pretrained(MODEL_NAME)\n",
    "tokenizer1.pad_token = tokenizer1.eos_token"
   ]
  },
  {
   "cell_type": "code",
   "execution_count": null,
   "id": "8e6eb514",
   "metadata": {},
   "outputs": [],
   "source": [
    "df = pd.read_csv(\"/kaggle/input/data-k10-new-filter/new_filtered_df_10k.csv\", nrows=1000)\n",
    "df.columns = [str(q).strip() for q in df.columns]\n",
    "\n",
    "data = Dataset.from_pandas(df)"
   ]
  },
  {
   "cell_type": "code",
   "execution_count": null,
   "id": "5d790f64",
   "metadata": {},
   "outputs": [],
   "source": [
    "def generate_prompt(data_point):\n",
    "    return f\"\"\"\n",
    "            Напиши резюме тексту: \n",
    "            {data_point[\"text\"]}. \n",
    "            Резюме: {data_point[\"summary\"]}\n",
    "            \"\"\".strip()\n",
    "\n",
    "def generate_and_tokenize_prompt(data_point):\n",
    "    full_prompt = generate_prompt(data_point)\n",
    "    tokenized_full_prompt = tokenizer1(full_prompt, padding=True, truncation=True)\n",
    "    return tokenized_full_prompt\n",
    "\n",
    "data = data.shuffle().map(generate_and_tokenize_prompt)"
   ]
  },
  {
   "cell_type": "code",
   "execution_count": null,
   "id": "84dd8a91",
   "metadata": {},
   "outputs": [],
   "source": [
    "model1 = prepare_model_for_kbit_training(model1)"
   ]
  },
  {
   "cell_type": "code",
   "execution_count": null,
   "id": "f135b4f4",
   "metadata": {},
   "outputs": [],
   "source": [
    "config = LoraConfig(\n",
    "    r=128,\n",
    "    lora_alpha=32,\n",
    "    target_modules=['down_proj','o_proj','k_proj','q_proj','gate_proj','up_proj','v_proj'],\n",
    "    lora_dropout=0.05,\n",
    "    bias=\"none\",\n",
    "    task_type=\"CAUSAL_LM\"\n",
    ")\n",
    "\n",
    "model1 = get_peft_model(model1, config)"
   ]
  },
  {
   "cell_type": "code",
   "execution_count": null,
   "id": "98b21d64",
   "metadata": {},
   "outputs": [],
   "source": [
    "generation_config = model1.generation_config\n",
    "generation_config.max_new_tokens = 120\n",
    "generation_config.top_p = 0.7\n",
    "generation_config.num_return_sequences = 1\n",
    "generation_config.pad_token_id = tokenizer1.eos_token_id\n",
    "generation_config.eos_token_id = tokenizer1.eos_token_id"
   ]
  },
  {
   "cell_type": "code",
   "execution_count": null,
   "id": "8cd1c5cf",
   "metadata": {},
   "outputs": [],
   "source": [
    "training_args = transformers.TrainingArguments(\n",
    "    per_device_train_batch_size=1,\n",
    "    gradient_accumulation_steps=1, \n",
    "    logging_steps=100,\n",
    "    eval_steps=100,\n",
    "    num_train_epochs=2,\n",
    "    learning_rate=1e-4,\n",
    "    save_strategy=\"epoch\",\n",
    "    fp16=True,\n",
    "    output_dir=\"finetune_summary2\",\n",
    "    optim=\"paged_adamw_8bit\",\n",
    "    lr_scheduler_type=\"cosine\",\n",
    "    warmup_ratio=0.01,\n",
    "    report_to=\"none\"\n",
    ")\n",
    "\n",
    "trainer = transformers.Trainer(\n",
    "    model=model1,\n",
    "    train_dataset=data,\n",
    "    args=training_args,\n",
    "    data_collator=transformers.DataCollatorForLanguageModeling(tokenizer1, mlm=False)\n",
    ")\n",
    "model1.config.use_cache = False\n",
    "trainer.train()"
   ]
  },
  {
   "cell_type": "code",
   "execution_count": null,
   "id": "8b5f406c",
   "metadata": {},
   "outputs": [],
   "source": []
  }
 ],
 "metadata": {
  "kernelspec": {
   "display_name": "Python 3 (ipykernel)",
   "language": "python",
   "name": "python3"
  },
  "language_info": {
   "codemirror_mode": {
    "name": "ipython",
    "version": 3
   },
   "file_extension": ".py",
   "mimetype": "text/x-python",
   "name": "python",
   "nbconvert_exporter": "python",
   "pygments_lexer": "ipython3",
   "version": "3.11.4"
  }
 },
 "nbformat": 4,
 "nbformat_minor": 5
}
