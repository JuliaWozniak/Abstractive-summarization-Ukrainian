{
 "cells": [
  {
   "cell_type": "code",
   "execution_count": null,
   "id": "a724abac",
   "metadata": {},
   "outputs": [],
   "source": [
    "import os\n",
    "import time\n",
    "import pandas as pd\n",
    "\n",
    "import torch\n",
    "import torch.nn as nn"
   ]
  },
  {
   "cell_type": "code",
   "execution_count": null,
   "id": "aede2c8a",
   "metadata": {},
   "outputs": [],
   "source": [
    "from transformers import (\n",
    "    AutoConfig,\n",
    "    BitsAndBytesConfig,\n",
    "    AutoModelForCausalLM,\n",
    "    AutoTokenizer,\n",
    ")\n",
    "from transformers import (\n",
    "    pipeline, \n",
    "    TrainingArguments, \n",
    "    Trainer\n",
    ")\n",
    "from peft import ( \n",
    "\t\tLoraConfig, \n",
    "\t\tPeftConfig, \n",
    "\t\tPeftModel, \n",
    "\t\tget_peft_model, \n",
    "\t\tprepare_model_for_kbit_training\n",
    ")"
   ]
  },
  {
   "cell_type": "code",
   "execution_count": null,
   "id": "a64b8147",
   "metadata": {},
   "outputs": [],
   "source": [
    "MODEL_NAME = \"/kaggle/input/llama-3/transformers/8b-hf/1\"\n",
    "\n",
    "new_model = \"/kaggle/input/llama_1_try/transformers/v1/1\""
   ]
  },
  {
   "cell_type": "code",
   "execution_count": null,
   "id": "c6a99916",
   "metadata": {},
   "outputs": [],
   "source": [
    "base_model = AutoModelForCausalLM.from_pretrained(\n",
    "    MODEL_NAME,\n",
    "    low_cpu_mem_usage=True,\n",
    "    return_dict=True,\n",
    "    torch_dtype=torch.float16,\n",
    "    device_map=\"auto\",\n",
    ")"
   ]
  },
  {
   "cell_type": "code",
   "execution_count": null,
   "id": "f78d16be",
   "metadata": {},
   "outputs": [],
   "source": [
    "model = PeftModel.from_pretrained(base_model, new_model)\n",
    "model = model.merge_and_unload()"
   ]
  },
  {
   "cell_type": "code",
   "execution_count": null,
   "id": "2b4d7073",
   "metadata": {},
   "outputs": [],
   "source": [
    "tokenizer = AutoTokenizer.from_pretrained(MODEL_NAME, trust_remote_code=True)\n",
    "tokenizer.add_special_tokens({'pad_token': '[PAD]'})\n",
    "tokenizer.pad_token = tokenizer.eos_token\n",
    "tokenizer.padding_side = \"right\""
   ]
  },
  {
   "cell_type": "code",
   "execution_count": null,
   "id": "32f13476",
   "metadata": {},
   "outputs": [],
   "source": [
    "def test_input(prompt_i, text_i, prompt_i2):\n",
    "    \n",
    "    prompt = prompt_i + text_i + prompt_i2\n",
    "    inputs = tokenizer(prompt, return_tensors=\"pt\").input_ids\n",
    "    \n",
    "    input_ids = inputs.to('cuda')\n",
    "    outputs = model.generate(input_ids, max_new_tokens=120, do_sample=False, pad_token_id=tokenizer.eos_token_id)\n",
    "    return(tokenizer.decode(outputs[0], skip_special_tokens=True))"
   ]
  },
  {
   "cell_type": "code",
   "execution_count": null,
   "id": "88c8fe66",
   "metadata": {},
   "outputs": [],
   "source": [
    "df = pd.read_csv(\"/kaggle/input/testing-data/test_data.csv\")"
   ]
  },
  {
   "cell_type": "code",
   "execution_count": null,
   "id": "c601d603",
   "metadata": {},
   "outputs": [],
   "source": [
    "outputs = []\n",
    "p1 = \"Напиши резюме тексту: \"\n",
    "\n",
    "for ind,row in df[:100].iterrows():\n",
    "    \n",
    "    input_text = row[\"text\"]\n",
    "    res = test_input(p1, input_text, \"\")\n",
    "    outputs.append((res,row[\"post_id\"], input_text))\n",
    "    \n",
    "smdf = pd.DataFrame(outputs)\n",
    "smdf.to_csv(\"test_df_llama1.csv\")"
   ]
  }
 ],
 "metadata": {
  "kernelspec": {
   "display_name": "Python 3 (ipykernel)",
   "language": "python",
   "name": "python3"
  },
  "language_info": {
   "codemirror_mode": {
    "name": "ipython",
    "version": 3
   },
   "file_extension": ".py",
   "mimetype": "text/x-python",
   "name": "python",
   "nbconvert_exporter": "python",
   "pygments_lexer": "ipython3",
   "version": "3.11.4"
  }
 },
 "nbformat": 4,
 "nbformat_minor": 5
}
